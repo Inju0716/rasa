{
 "cells": [
  {
   "cell_type": "markdown",
   "metadata": {},
   "source": [
    "### Reference \n",
    "- [Rasa Masterclass - episode 5](https://www.youtube.com/watch?v=WoTmnN2EMdo&t=311s)\n",
    "- [Rasa Masterclass - episode 6](https://www.youtube.com/watch?v=W7jdIeyIPcU)"
   ]
  },
  {
   "cell_type": "code",
   "execution_count": null,
   "metadata": {},
   "outputs": [],
   "source": [
    "## intent:greet\n",
    "- hey\n",
    "- hello\n",
    "- hi\n",
    "- good morning\n",
    "- good evening\n",
    "- hey there\n",
    "\n",
    "## intent:goodbye\n",
    "- bye\n",
    "- goodbye\n",
    "- see you around\n",
    "- see you later\n",
    "\n",
    "## intent:inform\n",
    "- [Sitka](location)\n",
    "- [Juneau](location)\n",
    "- [Virginia](location)\n",
    "- [Cusseta](location)\n",
    "- [Chicago](location)\n",
    "- [Tuscon](location)\n",
    "- [Columbus](location)\n",
    "- [San Francisco](location)\n",
    "\n",
    "## intent:search_provider\n",
    "- I need a [hospital](facility_type)\n",
    "- find me a nearby [hospital](facility_type)\n",
    "- show me [home health agencies](facility_type)\n",
    "- [hospital](facility_type)\n",
    "- find me a nearby [hospital](facility_type) in [San Francisco](location)\n",
    "- I need a [home health agency](facility_type)\n",
    "\n",
    "## intent:affirm\n",
    "- yes\n",
    "- indeed\n",
    "- of course\n",
    "- that sounds good\n",
    "- correct\n",
    "\n",
    "## intent:deny\n",
    "- no\n",
    "- never\n",
    "- I don't think so\n",
    "- don't like that\n",
    "- no way\n",
    "- not really\n",
    "\n",
    "## intent:mood_great\n",
    "- perfect\n",
    "- very good\n",
    "- great\n",
    "- amazing\n",
    "- wonderful\n",
    "- I am feeling very good\n",
    "- I am great\n",
    "- I'm good\n",
    "\n",
    "## intent:mood_unhappy\n",
    "- sad\n",
    "- very sad\n",
    "- unhappy\n",
    "- bad\n",
    "- very bad\n",
    "- awful\n",
    "- terrible\n",
    "- not very good\n",
    "- extremely sad\n",
    "- so sad"
   ]
  },
  {
   "cell_type": "markdown",
   "metadata": {},
   "source": [
    "## Dialogue Management \n",
    "특정 대화 맥락에서 인풋 메세지에 대해 어시스턴트가 어떻게 대답해야할 지 결정<br>\n",
    "Rasa Core가 이를 담당<br><br>\n",
    "현재 대화형 어시스터트를 구축할 때 가장 선호되는 접근법은 일련의 규칙 또는 state machine을 사용하는 방법<br> \n",
    "이러한 접근법의 단점:\n",
    "   1. 정해진 규칙에서 벗어날 경우 문제가 복잡해짐 \n",
    "   2. 발생할 수 있는 모든 dialogue turn에 대한 규칙을 정하는 것이 사실상 불가능함. \n",
    "   3. 대화가 복잡해질 수록 이를 위한 규칙을 manage, maintain, debug 하기 어려움\n",
    "   \n",
    "<br>\n",
    "Rasa는 예시 대화 데이터로부터 <b>대화 패턴, 특정 상황에서 어시스턴트가 대답해야 하는 방식, 대화 및 다른 요소들에 대한 history</b>를 학습함 "
   ]
  },
  {
   "cell_type": "markdown",
   "metadata": {},
   "source": [
    "### 1. Stories"
   ]
  },
  {
   "cell_type": "markdown",
   "metadata": {},
   "source": [
    "story는 **특정한 format으로 쓰여진 사용자와 어시스턴트 사이의 예시 대화 데이터**로 이를 통해 어시스턴트를 학습시킴<br>\n",
    "<img src=\"img\\rasa06.png\" width=\"500\" height=\"500\">"
   ]
  },
  {
   "cell_type": "code",
   "execution_count": null,
   "metadata": {},
   "outputs": [],
   "source": [
    "## hospital search happy path\n",
    "* greet\n",
    "  - utter_how_can_i_help\n",
    "* search_provider{\"facility_type\":\"hospital\", \"location\": \"San Francisco\"}\n",
    "  - action_facility_search\n",
    "* thanks\n",
    "  - utter_goodbye\n",
    "\n",
    "## hospital search + location\n",
    "* greet\n",
    "  - utter_how_can_i_help\n",
    "* search_provider{\"facility_type\":\"hospital\"}\n",
    "  - utter_ask_location\n",
    "* inform{\"location\":\"San Francisco\"}\n",
    "  - action_facility_search\n",
    "* thanks\n",
    "  - utter_goodbye"
   ]
  },
  {
   "cell_type": "markdown",
   "metadata": {},
   "source": [
    "story는 크게 3가지 요소로 구성되어 있음\n",
    "\n",
    "1. story name\n",
    "    -  '## story name' 의 형태\n",
    "    - 이후 디버깅을 위해 어떤 대화에 대한 것인지 알아보기 쉽게 적어놓는 것이 좋다 \n",
    "    \n",
    "2. user input\n",
    "    - '* intent name{entity name:entity value}'의 형태 \n",
    "    - NLU 학습데이터에 정의한 것과 동일한 intent, entity label 사용. 실제 인풋메시지를 사용하지 않고, NLU 모델의 아웃풋(intent, entity)만을 사용 \n",
    "    - intent와 entity를 기반으로 어시스턴트의 다음 행동을 결정 \n",
    "\n",
    "3. assistant response\n",
    "    - \"- action name\" 의 형태 \n",
    "    - action 은 2가지가 있음: utterance, custom action \n",
    "        1. utterance: hardcoded messages (domain.yml 파일에 실제 메시지)\n",
    "        2. custom action: some custom code that can be executed (action.py 파일에 실제 코드)"
   ]
  },
  {
   "cell_type": "markdown",
   "metadata": {},
   "source": [
    "Dialogue Management도 다양한 학습데이터가 필요함<br>\n",
    "간단한 어시스턴트를 구축한 후 최대한 빨리 실제 사용자와 대화하며 실제 데이터로부터 학습하는 것이 좋음 "
   ]
  },
  {
   "cell_type": "markdown",
   "metadata": {},
   "source": [
    "### 2. Domain\n",
    "It defines **the universe in which an assitant operates.** <br>\n",
    "(어시스턴트가 어떤 intent와 entity를 이해할 수 있는지, 이에 대해 어떤 custom action과 utterance로 반응할 수 있는지, utterance는 어떤 형태인지, 대화를 나누는 동안 어떤 정보를 어시스턴트가 기억하고 있어야 하는지) \n",
    "<img src=\"img\\rasa07.png\" width=\"400\" height=\"400\">"
   ]
  },
  {
   "cell_type": "markdown",
   "metadata": {},
   "source": [
    "**domain.yml** 파일은 크게 4가지 요소로 구성\n",
    "\n",
    "1. intent \n",
    "    - 어시스턴트가 이해해야 하는 intent 리스트\n",
    "    - NLU 모델에 있는 모든 intent가 포함되어 있어야 함\n",
    "    \n",
    "2. entity \n",
    "    - NLU 모델이 추출했던 모든 entity 리스트  \n",
    "    - NLU 모델에 있는 모든 entities가 포함되어 있어야 함 \n",
    "\n",
    "3. action\n",
    "    - 어시스턴트가 사용자 인풋에 대해 반응하는 utterance와 custom action 리스트 \n",
    "    - stories 파일에 있는 모든 utterance와 custom action이 포함되어 있어야 함\n",
    "    \n",
    "4. response\n",
    "    - 어시스턴트의 actual response \n",
    "    - text, images, buttons, custom payload 등의 형태 "
   ]
  },
  {
   "cell_type": "code",
   "execution_count": null,
   "metadata": {},
   "outputs": [],
   "source": [
    "intents:\n",
    "  - greet\n",
    "  - goodbye\n",
    "  - affirm\n",
    "  - deny\n",
    "  - mood_great\n",
    "  - mood_unhappy\n",
    "  - bot_challenge\n",
    "  - inform \n",
    "  - search_provider\n",
    "\n",
    "entities: \n",
    "  - location\n",
    "  - facility_type \n",
    "    \n",
    "actions:\n",
    "- utter_greet\n",
    "- utter_cheer_up\n",
    "- utter_did_that_help\n",
    "- utter_happy\n",
    "- utter_goodbye\n",
    "- utter_iamabot \n",
    "- utter_how_can_i_help\n",
    "- utter_ask_location\n",
    "- action_facility_search\n",
    "\n",
    "responses: \n",
    "  utter_greet:\n",
    "  - text: \"Hey! How are you?\"\n",
    "\n",
    "  utter_cheer_up:\n",
    "  - text: \"Here is something to cheer you up:\"\n",
    "    image: \"https://i.imgur.com/nGF1K8f.jpg\"\n",
    "\n",
    "  utter_did_that_help:\n",
    "  - text: \"Did that help you?\"\n",
    "\n",
    "  utter_happy:\n",
    "  - text: \"Great, carry on!\"\n",
    "\n",
    "  utter_goodbye:\n",
    "  - text: \"Bye\"\n",
    "\n",
    "  utter_iamabot:\n",
    "  - text: \"I am a bot, powered by Rasa.\"\n",
    "\n",
    "  utter_how_can_i_help:\n",
    "  - text: \"Hello. I am a medicare locator. I can help you find nearset hospital. How can I help?\"\n",
    "  - text: \"Hi. My name is medicare locator. How can I help you today?\"\n",
    "\n",
    "  utter_ask_location:\n",
    "  - text: \"Can you provide your location please?\"\n",
    "  - text: \"To find the nearest {facility_type} I need your address.\""
   ]
  },
  {
   "cell_type": "markdown",
   "metadata": {},
   "source": [
    "### 3. Custom Actions \n",
    "사용자 인풋에 대한 어시스턴트의 다음 response를 정의하는 가장 쉬운 방법은 domain의 response에 어시스턴트가 말할 메시지를 직접 입력하는 것<br><br>\n",
    "**또 다른 방법: Custom Action** - custom code를 통해 어시스턴트의 response를 도출<br>\n",
    "custom code는 어시스턴트가 간단한 텍스트 도출, API call, 외부 데이터로부터 중요 정보 추출 등 무엇이든 수행할 수 있게 함\n",
    "<br><br>\n",
    "**\"action.py\"** 파일에서 Custom Action 정의 "
   ]
  },
  {
   "cell_type": "markdown",
   "metadata": {},
   "source": [
    "1. custom action을 실행하기 위해 필요한 modules을 import \n",
    "\n",
    "<img src=\"img\\rasa08.png\" width=\"400\" height=\"400\">"
   ]
  },
  {
   "cell_type": "markdown",
   "metadata": {},
   "source": [
    "2. class of custom action 설정 \n",
    "    - 2가지 함수로 이루어져 있음: name(), run()\n",
    "    - name()\n",
    "        - 특정 custom action의 이름 \n",
    "        - stories, domain 파일에서 사용되는 이름과 동일해야 함\n",
    "    - run()\n",
    "        - custom action이 실제로 무엇을 수행하는 것인지 정의하는 부분\n",
    "        - 2가지 object(tracker와 dispatchers)가 존재\n",
    "            - tracker: 대화 상황에서 발생하는 것을 계속해서 track (예: 현재 대화 상황에서 slot에 어떤 value가 저장되어 있는지)\n",
    "            - dispatcher: 사용자에게 response를 보냄 \n",
    "            \n",
    "<img src=\"img\\rasa09.png\" width=\"600\" height=\"400\">"
   ]
  },
  {
   "cell_type": "markdown",
   "metadata": {},
   "source": [
    "** domain, stories, nlu 학습데이터에 있는 요소들은 모두 연결되어 있음 \n",
    "\n",
    "<img src=\"img\\rasa10.png\" width=\"500\" height=\"500\">"
   ]
  },
  {
   "cell_type": "markdown",
   "metadata": {},
   "source": [
    "### 4. Slots\n",
    "어시스턴트의 memory로, **대화에서 중요한 정보를 저장해놓은 후 이후 특정 문맥에서 그 정보를 다시 사용**<br>\n",
    "entity와 같은 사용자 메시지 중 중요한 요소, 외부 데이터베이스에서 추출한 정보와 같은 외부 정보 등을 저장"
   ]
  },
  {
   "cell_type": "markdown",
   "metadata": {},
   "source": [
    "**domain.yml**에 입력<br>\n",
    "\n",
    "<img src=\"img\\rasa11.png\" width=\"500\" height=\"500\">"
   ]
  },
  {
   "cell_type": "code",
   "execution_count": null,
   "metadata": {},
   "outputs": [],
   "source": [
    "slots:\n",
    "  location:\n",
    "    type: text\n",
    "  facility_type:\n",
    "    type: text"
   ]
  },
  {
   "cell_type": "markdown",
   "metadata": {},
   "source": [
    "slot은 2가지 요소로 구성\n",
    "1. slot name \n",
    "    - slot name = entity name일 경우, NLU 모델을 통해 추출된 entity value가 slot value에 자동 저장\n",
    "2. slot type\n",
    "    - slot type에 따라 slot을 다루는 방식이 달라짐\n",
    "    \n",
    "         1. Text \n",
    "             - 특정 slot value가 존재하는지만 고려. 실제 slot value는 고려하지 않음 \n",
    "             - 사용자가 특정 정보를 말했는지에 따라 어시스턴트가 대답하는 것이 달라지는 상황 등을 모델링하는데 유용 \n",
    "         \n",
    "         2. Boolean Type\n",
    "             - 2가지 값(true or false)를 가진 정보를 다룰때 유용\n",
    "             - 특정 slot value가 존재하는지 뿐만 아니라, 그 slot value가 무엇인지도 고려 \n",
    "             - slot value가 true일 때만 그 정보를 어시스턴트의 다음 행동을 결정하는데 사용 \n",
    "         \n",
    "         3. Categorial Slot\n",
    "             - useful when the piece of information can get one of N possible values. (예: low, mid, high)\n",
    "             - 실제 slot value가 무엇인지 고려하여 어시스턴트의 다음 행동을 결정 \n",
    "         \n",
    "         4. Float \n",
    "             - continuous information을 저장하는데 유용\n",
    "             - 특정 slot value가 존재하는지 뿐만 아니라, 그 slot value가 무엇인지도 고려 \n",
    "         \n",
    "         5. List slot \n",
    "             - multiple value를 가진 정보를 저장하는데 유용 \n",
    "             - list의 길이는 중요하지 않고, slot value가 존재하는지 여부가 중요 \n",
    "             \n",
    "         6. Unfeaturized Slot\n",
    "             - 정보를 저장해놓고 나중에 그 정보를 이용하고 싶을 때 사용. 저장만 해놓는 것 \n",
    "             - slot value가 존재하는지 여부가 어시스턴트의 다음 행동에 영향을 미치지 않음 "
   ]
  },
  {
   "cell_type": "markdown",
   "metadata": {},
   "source": [
    "slot 사용<br>\n",
    "1. slot value를 어시스턴트 대답을 생성하는데 이용\n",
    "    - domain의 response 중 slot value가 들어갈 부분에 **'{slot name}'**을 포함시키면 됨\n",
    "\n",
    "<img src=\"img\\rasa12.png\" width=\"500\" height=\"500\">\n"
   ]
  },
  {
   "cell_type": "markdown",
   "metadata": {},
   "source": [
    "2. custom action에 이용\n",
    "\n",
    "<img src=\"img\\rasa13.png\" width=\"600\" height=\"600\">\n",
    "\n",
    "3. custom action에서 새로운 slot 설정\n",
    "    - custom action code를 돌리는 과정에서 나오는 중요한 정보를 저장해놓기 위함 \n",
    "    - 이를 위해 SlotSet을 import 하고, return을 return [SlotSet(slot name, value)]의 형태로 설정\n",
    "    \n",
    "<img src=\"img\\rasa16.png\" width=\"600\" height=\"600\">"
   ]
  },
  {
   "cell_type": "code",
   "execution_count": null,
   "metadata": {},
   "outputs": [],
   "source": [
    "from typing import Any, Text, Dict, List\n",
    "\n",
    "from rasa_sdk import Action, Tracker\n",
    "from rasa_sdk.executor import CollectingDispatcher\n",
    "from rasa_sdk.events import SlotSet\n",
    "\n",
    "\n",
    "class ActionFacilitySearch(Action):\n",
    "\n",
    "    def name(self) -> Text:\n",
    "        return \"action_facility_search\"\n",
    "\n",
    "    def run(self, dispatcher: CollectingDispatcher,\n",
    "            tracker: Tracker,\n",
    "            domain: Dict[Text, Any]) -> List[Dict[Text, Any]]:\n",
    "\n",
    "        facility = tracker.get_slot(\"facility_type\")\n",
    "        address = \"300 Hyde St, San Francisco\"\n",
    "        dispatcher.utter_message(\"Here is the address of the {}:{}\".format(facility, address))\n",
    "\n",
    "        return [SlotSet(\"address\", address)]"
   ]
  },
  {
   "cell_type": "markdown",
   "metadata": {},
   "source": [
    "   - SlotSet을 통해 새롭게 설정한 slot은 stories와 domain 파일에 반영해야 함 \n",
    "    \n",
    "<img src=\"img\\rasa14.png\" width=\"400\" height=\"400\">\n",
    "\n",
    "<img src=\"img\\rasa15.png\" width=\"600\" height=\"600\">"
   ]
  },
  {
   "cell_type": "code",
   "execution_count": null,
   "metadata": {},
   "outputs": [],
   "source": [
    "# stories.md 파일에 반영 \n",
    "* search_provider{\"facility_type\":\"hospital\", \"location\": \"San Francisco\"}\n",
    "  - action_facility_search\n",
    "  - slot{\"address\":\"300 Hyde St, San Francisco\"}\n",
    "\n",
    "* inform{\"location\":\"San Francisco\"}\n",
    "  - action_facility_search\n",
    "  - slot{\"address\":\"300 Hyde St, San Francisco\"}\n",
    "\n",
    "#domain.yml 파일에 반영\n",
    "  address:\n",
    "    type: unfeaturized"
   ]
  },
  {
   "cell_type": "markdown",
   "metadata": {},
   "source": [
    "slot value는 리셋하기 전까지 계속 저장되어 있으며, 새로운 value가 나올 경우 업데이트 됨<br>\n",
    "ResetAllSlots을 통해 모든 slot을 초기값으로 리셋할 수 있음 "
   ]
  },
  {
   "cell_type": "markdown",
   "metadata": {},
   "source": [
    "### 5. Train and Test"
   ]
  },
  {
   "cell_type": "markdown",
   "metadata": {},
   "source": [
    "1. train \n",
    "    - NLU 모델과 Dialogue Management model을 모두 학습\n",
    "    - 이 과정에서 domain, stories, nlu 파일에 빠뜨린 요소를 알려줌 \n",
    "\n",
    "<img src=\"img\\rasa17.png\" width=\"600\" height=\"500\">"
   ]
  },
  {
   "cell_type": "code",
   "execution_count": null,
   "metadata": {},
   "outputs": [],
   "source": [
    "rasa train "
   ]
  },
  {
   "cell_type": "markdown",
   "metadata": {},
   "source": [
    "2. custom action server 실행\n",
    "    - custon action은 모델과 다른 서버에서 실행됨 \n",
    "    - **endpoint.yml** 파일에서 action_endpoint 주석 해제 후, 실행\n",
    "\n",
    "<img src=\"img\\rasa18.png\" width=\"600\" height=\"500\">"
   ]
  },
  {
   "cell_type": "code",
   "execution_count": null,
   "metadata": {},
   "outputs": [],
   "source": [
    "rasa run actions"
   ]
  },
  {
   "cell_type": "markdown",
   "metadata": {},
   "source": [
    "3. rasa shell 실행하여 확인"
   ]
  },
  {
   "cell_type": "code",
   "execution_count": null,
   "metadata": {},
   "outputs": [],
   "source": [
    "rasa shell "
   ]
  },
  {
   "cell_type": "markdown",
   "metadata": {},
   "source": [
    "<img src=\"img\\rasa19.png\" width=\"600\" height=\"600\">"
   ]
  }
 ],
 "metadata": {
  "kernelspec": {
   "display_name": "Python 3",
   "language": "python",
   "name": "python3"
  },
  "language_info": {
   "codemirror_mode": {
    "name": "ipython",
    "version": 3
   },
   "file_extension": ".py",
   "mimetype": "text/x-python",
   "name": "python",
   "nbconvert_exporter": "python",
   "pygments_lexer": "ipython3",
   "version": "3.8.3"
  }
 },
 "nbformat": 4,
 "nbformat_minor": 4
}
