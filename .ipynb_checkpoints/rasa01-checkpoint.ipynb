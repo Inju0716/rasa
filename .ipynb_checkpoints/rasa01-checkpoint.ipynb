{
 "cells": [
  {
   "cell_type": "markdown",
   "metadata": {},
   "source": [
    "### Reference \n",
    "- [Rasa Masterclass - episode 1](https://www.youtube.com/watch?v=-F6h43DRpcU)\n",
    "- [Rasa docs](https://rasa.com/docs/rasa/user-guide/rasa-tutorial/)"
   ]
  },
  {
   "cell_type": "markdown",
   "metadata": {},
   "source": [
    "# 1. Rasa란? \n",
    "\n",
    "#### 1. Rasa\n",
    "대화형 AI 구축을 위한 오픈소스 머신러닝 툴(tool) \n",
    "\n",
    "#### 2. 핵심 구성요소\n",
    "(1) Rasa Open Source - **NLU(Natural Language Understanding)**<br>\n",
    "- 사용자의 인풋 메세지를 구조화된 데이터의 형태(\"intent\"와 \"entities\")로 바꿈 \n",
    "- \"intent\": 인풋 메세지의 전반적인 목적 (예: Hello! My name is Juste → intent: greet)\n",
    "- \"entities\": 어시스턴트가 메세지로부터 추출해내야 하는 중요한 정보 (예: Hello! My name is Juste → name: Juste)\n",
    "\n",
    "<img src=\"img\\rasa01.png\" width=\"200\" height=\"200\">\n",
    "\n",
    "(2) Rasa Open Source - **Core(dialogue management)**<br>\n",
    "- 특정 대화 맥락에서 인풋 메세지에 대해 어시스턴트가 어떻게 대답해야할 지 결정\n",
    "- 사용자와 어시스턴트의 실제 대화 데이터 패턴(story)을 관찰함으로써 학습 \n",
    "\n",
    "(3) Rasa X\n",
    "- 실제 대화 데이터를 통해 어시스턴트가 계속해서 학습하도록 관리하는 툴\n",
    "\n",
    "<img src=\"img\\rasa05.png\" width=\"700\" height=\"700\">\n",
    "\n",
    "#### 3. 대화형 AI 어시스턴트의 5단계\n",
    "(1) Level 1: Notification \n",
    "- 메세지 형태의 간단한 알림을 보냄\n",
    "\n",
    "(2) Level 2: FAQ Asssistants\n",
    "- 간단한 질문에 대해 대답\n",
    "- 대화가 사전에 설정한 규칙을 벗어날 경우 제대로 대답을 못하는 경향이 있음\n",
    "\n",
    "(3) Level 3: Contextual Assistants (**Rasa를 통해 구축가능**)\n",
    "- 문맥(context)을 고려하여 대답한다는 것은 다양하고 예상치 못한(unexpected) 인풋에 대해서도 이를 이해하고 적절히 대답할 수 있다는 것을 의미\n",
    "- 문맥을 고려하는 방법<br>\n",
    "  - 머신러닝 모델이 지금 대화가 무엇에 관한 것인지, 이전에 어떤 내용의 대화가 이루어졌는지를 파악 \n",
    "  - NLU 모델을 통해 추출한 entities가 dialogue management 모델이 예측하는 것에 직접적으로 영향을 줌\n",
    "\n",
    "(4) Level 4: Personalized Assistants \n",
    "- 시간이 흐름에 따라 사용자의 선호도, 습관 등을 파악하며 사용자에 대해 더 잘 알게 됨\n",
    "\n",
    "(5) Level 5: Autonomous Organization \n",
    "- 모든 고객을 개별적으로 파악하며, 마케팅, HR 등 회사 업무의 다양한 부분을 담당하는 AI 어시스턴트 집단"
   ]
  },
  {
   "cell_type": "markdown",
   "metadata": {},
   "source": [
    "# 2.1 Rasa 설치하기 (Windows 10 기준) \n",
    "- [동영상](https://www.youtube.com/watch?v=4ewIABo0OkU)\n",
    "\n",
    "#### 0. 사전 환경\n",
    "- [Anaconda](https://www.anaconda.com/products/individual#download-section), [Microsoft Visual C++ 14.0](https://visualstudio.microsoft.com/ko/downloads/?ranMID=24542&ranEAID=je6NUbpObpQ&ranSiteID=je6NUbpObpQ-RCeV821HMJj.XjzCDtpmzw&epi=je6NUbpObpQ-RCeV821HMJj.XjzCDtpmzw&irgwc=1&OCID=AID2000142_aff_7593_1243925&tduid=%28ir__ozbr30fvgskfty01kk0sohzxz22xin0x26cmpsxw00%29%287593%29%281243925%29%28je6NUbpObpQ-RCeV821HMJj.XjzCDtpmzw%29%28%29&irclickid=_ozbr30fvgskfty01kk0sohzxz22xin0x26cmpsxw00) 가 설치되어 있어야 함 \n",
    "- Anaconda 설치할 때 Install for 'Just ME'로 설정을 해주어야 이후에 Rasa를 설치할 때 오류가 없음([참고](https://bddung.tistory.com/90))\n",
    "\n",
    "#### 1. 설치 \n",
    "- 아나콘다 프롬프트(Anaconda Prompt) 실행하여 아래 코드 차례대로 입력 \n",
    "- 코드 입력 후 'proceed ([y]/n)?' 가 나올때 y를 입력해주면 됨 "
   ]
  },
  {
   "cell_type": "code",
   "execution_count": null,
   "metadata": {},
   "outputs": [],
   "source": [
    "# 새로운 가상환경 만들기\n",
    "conda create --name 'rasa' python==3.7.6  #name 옆 따옴표 안에 원하는 가상환경 이름 입력\n",
    "\n",
    "# 새로 만든 가상환경 접속\n",
    "conda activate rasa\n",
    "\n",
    "# 사전에 필요한 것들 설치\n",
    "conda install ujson\n",
    "conda install tensorflow\n",
    "\n",
    "# Rasa 설치\n",
    "pip install rasa\n",
    "\n",
    "# Rasa X 설치 \n",
    "pip install rasa-x --extra-index-url https://pypi.rasa.com/simple\n",
    "\n",
    "# Rasa 프로젝트 생성 \n",
    "rasa init "
   ]
  },
  {
   "cell_type": "markdown",
   "metadata": {},
   "source": [
    "#### 2. 새로 생성한 프로젝트 확인 \n",
    "- Visual Studio Code 실행 후, File>Open Folder>프로젝트 설치 폴더\n",
    "\n",
    "<img src=\"img\\rasa02.png\" width=\"600\" height=\"400\">"
   ]
  },
  {
   "cell_type": "markdown",
   "metadata": {},
   "source": [
    "# 2.2 Rasa 설치하기 (MacOS 기준) \n",
    "- [동영상](https://www.youtube.com/watch?v=fqzsE70Rvr0)\n",
    "\n",
    "#### 0. 사전 환경\n",
    "- [Anaconda](https://www.anaconda.com/products/individual#download-section) 또는  [Python(3.6 또는 3.7)](https://www.python.org/downloads/)이 설치되어 있어야 함 \n",
    "- Anaconda 설치할 때 Install for 'Just ME'로 설정을 해주어야 이후에 Rasa를 설치할 때 오류가 없음([참고](https://bddung.tistory.com/90))\n",
    "\n",
    "#### 1. 설치 \n",
    "- Terminal을 실행하여 아래 코드 차례대로 입력 \n",
    "- 코드 입력 후 'proceed ([y]/n)?' 가 나올때 y를 입력해주면 됨 "
   ]
  },
  {
   "cell_type": "code",
   "execution_count": null,
   "metadata": {},
   "outputs": [],
   "source": [
    "# 새로운 가상환경 만들기\n",
    "conda create --name rasa python==3.7  #name 옆에 원하는 가상환경 이름 입력\n",
    "\n",
    "# 새로 만든 가상환경 접속\n",
    "conda activate rasa\n",
    "\n",
    "# Rasa 설치\n",
    "pip install rasa\n",
    "\n",
    "# Rasa X 설치 \n",
    "pip3 install rasa-x --extra-index-url https://pypi.rasa.com/simple\n",
    "\n",
    "# Rasa 프로젝트 생성 \n",
    "rasa init "
   ]
  },
  {
   "cell_type": "markdown",
   "metadata": {},
   "source": [
    "#### 2. 새로 생성한 프로젝트 확인 \n",
    "- Rasa 프로젝트를 생성한 폴더에서 바로 확인 가능"
   ]
  },
  {
   "cell_type": "markdown",
   "metadata": {},
   "source": [
    "# 3. Rasa Basics\n",
    "Rasa 프로젝트 파일의 기본적인 구조 및 챗봇을 구축하는 기본 과정<br>\n",
    "코드들은 아나콘다 프롬프트 실행 → rasa를 설치한 가상환경 접속 후 입력\n",
    "\n",
    "#### 1. 새로운 프로젝트 만들기 \n",
    "- 챗봇을 구축하는데 필요한 모든 파일과 예시 training data를 새로 생성\n",
    "\n",
    "<img src=\"img/rasa03.png\" width=\"600\" height=\"600\">"
   ]
  },
  {
   "cell_type": "code",
   "execution_count": null,
   "metadata": {},
   "outputs": [],
   "source": [
    "rasa init"
   ]
  },
  {
   "cell_type": "markdown",
   "metadata": {},
   "source": [
    "#### 2. NLU training data \n",
    "- 위치: 프로젝트 설치 폴더\\data\\nlu.md\n",
    "- 인풋 메세지를 어떻게 이해해야 하는지 알려주는 training data를 통해 모델을 학습시킴"
   ]
  },
  {
   "cell_type": "markdown",
   "metadata": {},
   "source": [
    "#### 3. model configuration 설정\n",
    "- 위치: 프로젝트 설치 폴더\\config.yml\n",
    "- 모델이 사용하는 NLU와 Core 모델을 설정"
   ]
  },
  {
   "cell_type": "markdown",
   "metadata": {},
   "source": [
    "#### 4. story 생성\n",
    "- 위치: 프로젝트 설치 폴더\\data\\stories.md\n",
    "- 인풋 메세지에 대해 어시스턴트가 어떻게 대답해야할 지 학습시키기 위해 사용하는 사용자와 어시스턴트의 실제 대화 데이터 패턴\n",
    "- \"intent\"와 \"entities\"는 사용자의 인풋 메시지를 반영\n",
    "- \"-\" 로 시작하는 줄은 어시스턴트가 수행해야 할 action을 나타냄"
   ]
  },
  {
   "cell_type": "markdown",
   "metadata": {},
   "source": [
    "#### 5. domain 설정하기  \n",
    "- 위치: 프로젝트 설치 폴더\\domain.yml\n",
    "- domain은 어시스턴트가 살고 있는 세상(universe)으로, 인풋 메세지에서 어시스턴트가 무슨 정보를 추출할 수 있는지, 무슨 행동을 예측할 수 있어야 하는지, 어떻게 대답해야 하는지, 정보를 어떻게 저장해야 하는지와 관련됨\n",
    "- intents, actions, responses 3가지로 구성\n",
    "\n",
    "<img src=\"img/rasa04.png\" width=\"450\" height=\"450\">"
   ]
  },
  {
   "cell_type": "markdown",
   "metadata": {},
   "source": [
    "#### 6. 모델 훈련시키기 \n",
    "- NLU 및 Core 모델에 새로운 데이터를 추가하거나 domain 및 configuration을 업데이트 하였을 때, 신경망(neural network)를 다시 학습시켜야 함 \n",
    "- 변경된 부분만 다시 학습시킴 \n",
    "- 새롭게 학습된 모델은 \"프로젝트 설치 폴더\\models\"에 저장됨"
   ]
  },
  {
   "cell_type": "code",
   "execution_count": null,
   "metadata": {},
   "outputs": [],
   "source": [
    "rasa train"
   ]
  },
  {
   "cell_type": "markdown",
   "metadata": {},
   "source": [
    "#### 7. 어시스턴트 테스트하기 \n",
    "- 테스트 파일 위치: 프로젝트 설치 폴더\\tests\\conversation_tests.md\n",
    "- NLU와 Core가 올바르게 예측하는지 테스트 하기 위해 end-to-end test를 만든 후 시행해볼 수 있음"
   ]
  },
  {
   "cell_type": "code",
   "execution_count": null,
   "metadata": {},
   "outputs": [],
   "source": [
    "rasa test "
   ]
  },
  {
   "cell_type": "markdown",
   "metadata": {},
   "source": [
    "#### 8. 어시스턴트와 대화하기\n",
    "- /stop을 입력하면 대화 종료"
   ]
  },
  {
   "cell_type": "code",
   "execution_count": null,
   "metadata": {},
   "outputs": [],
   "source": [
    "rasa shell"
   ]
  }
 ],
 "metadata": {
  "kernelspec": {
   "display_name": "Python 3",
   "language": "python",
   "name": "python3"
  },
  "language_info": {
   "codemirror_mode": {
    "name": "ipython",
    "version": 3
   },
   "file_extension": ".py",
   "mimetype": "text/x-python",
   "name": "python",
   "nbconvert_exporter": "python",
   "pygments_lexer": "ipython3",
   "version": "3.8.3"
  }
 },
 "nbformat": 4,
 "nbformat_minor": 4
}
